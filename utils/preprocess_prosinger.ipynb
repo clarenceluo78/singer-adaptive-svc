{
 "cells": [
  {
   "cell_type": "code",
   "execution_count": 1,
   "metadata": {},
   "outputs": [],
   "source": [
    "import os\n",
    "\n",
    "def rename_files(folder_path):\n",
    "    # List all files in the specified folder\n",
    "    files = os.listdir(folder_path)\n",
    "\n",
    "    for file in files:\n",
    "        # Check if the file has a .wav extension\n",
    "        if file.endswith('.wav'):\n",
    "            # Extract the first component of the file name, separated by a blank space\n",
    "            uid = file.split('_')[0]\n",
    "\n",
    "            # Create the new file name using the first component\n",
    "            new_file_name = uid + '.wav'\n",
    "\n",
    "            old_file_path = os.path.join(folder_path, file)\n",
    "            new_file_path = os.path.join(folder_path, new_file_name)\n",
    "\n",
    "            # Rename the file\n",
    "            os.rename(old_file_path, new_file_path)\n",
    "\n",
    "# Provide the path to the folder containing .wav files\n",
    "folder_path = \"/mntnfs/lee_data1/haoyan/dataset/ProSinger/vocal/YijieShi\"\n",
    "rename_files(folder_path)"
   ]
  }
 ],
 "metadata": {
  "kernelspec": {
   "display_name": "py38",
   "language": "python",
   "name": "python3"
  },
  "language_info": {
   "codemirror_mode": {
    "name": "ipython",
    "version": 3
   },
   "file_extension": ".py",
   "mimetype": "text/x-python",
   "name": "python",
   "nbconvert_exporter": "python",
   "pygments_lexer": "ipython3",
   "version": "3.8.13"
  },
  "orig_nbformat": 4
 },
 "nbformat": 4,
 "nbformat_minor": 2
}
